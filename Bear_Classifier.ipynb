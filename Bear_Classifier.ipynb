{
  "metadata": {
    "kernelspec": {
      "language": "python",
      "display_name": "Python 3",
      "name": "python3"
    },
    "language_info": {
      "name": "python",
      "version": "3.10.14",
      "mimetype": "text/x-python",
      "codemirror_mode": {
        "name": "ipython",
        "version": 3
      },
      "pygments_lexer": "ipython3",
      "nbconvert_exporter": "python",
      "file_extension": ".py"
    },
    "kaggle": {
      "accelerator": "nvidiaTeslaT4",
      "dataSources": [],
      "dockerImageVersionId": 30787,
      "isInternetEnabled": true,
      "language": "python",
      "sourceType": "notebook",
      "isGpuEnabled": true
    },
    "colab": {
      "name": "Bear_Classifier",
      "provenance": [],
      "include_colab_link": true
    }
  },
  "nbformat_minor": 0,
  "nbformat": 4,
  "cells": [
    {
      "cell_type": "markdown",
      "metadata": {
        "id": "view-in-github",
        "colab_type": "text"
      },
      "source": [
        "<a href=\"https://colab.research.google.com/github/therishabhmittal-05/deepL/blob/master/Bear_Classifier.ipynb\" target=\"_parent\"><img src=\"https://colab.research.google.com/assets/colab-badge.svg\" alt=\"Open In Colab\"/></a>"
      ]
    },
    {
      "cell_type": "code",
      "source": [
        "# This Python 3 environment comes with many helpful analytics libraries installed\n",
        "# It is defined by the kaggle/python Docker image: https://github.com/kaggle/docker-python\n",
        "# For example, here's several helpful packages to load\n",
        "\n",
        "import numpy as np # linear algebra\n",
        "import pandas as pd # data processing, CSV file I/O (e.g. pd.read_csv)\n",
        "\n",
        "# Input data files are available in the read-only \"../input/\" directory\n",
        "# For example, running this (by clicking run or pressing Shift+Enter) will list all files under the input directory\n",
        "\n",
        "# import os\n",
        "# for dirname, _, filenames in os.walk('/kaggle/input'):\n",
        "#     for filename in filenames:\n",
        "#         print(os.path.join(dirname, filename))\n",
        "\n",
        "# You can write up to 20GB to the current directory (/kaggle/working/) that gets preserved as output when you create a version using \"Save & Run All\"\n",
        "# You can also write temporary files to /kaggle/temp/, but they won't be saved outside of the current session"
      ],
      "metadata": {
        "_uuid": "8f2839f25d086af736a60e9eeb907d3b93b6e0e5",
        "_cell_guid": "b1076dfc-b9ad-4769-8c92-a6c4dae69d19",
        "execution": {
          "iopub.status.busy": "2024-10-30T06:48:30.099195Z",
          "iopub.execute_input": "2024-10-30T06:48:30.099501Z",
          "iopub.status.idle": "2024-10-30T06:48:31.252189Z",
          "shell.execute_reply.started": "2024-10-30T06:48:30.099467Z",
          "shell.execute_reply": "2024-10-30T06:48:31.251448Z"
        },
        "trusted": true,
        "id": "JxSGDiiqTI0K"
      },
      "execution_count": 1,
      "outputs": []
    },
    {
      "cell_type": "code",
      "source": [
        "!pip install duckduckgo_search"
      ],
      "metadata": {
        "execution": {
          "iopub.status.busy": "2024-10-30T06:48:31.253869Z",
          "iopub.execute_input": "2024-10-30T06:48:31.254565Z",
          "iopub.status.idle": "2024-10-30T06:48:44.243326Z",
          "shell.execute_reply.started": "2024-10-30T06:48:31.254519Z",
          "shell.execute_reply": "2024-10-30T06:48:44.242207Z"
        },
        "trusted": true,
        "id": "tiabuP0HTI0Q",
        "outputId": "c4a81b0b-7b76-4dee-89a5-66e58360bf45",
        "colab": {
          "base_uri": "https://localhost:8080/"
        }
      },
      "execution_count": 2,
      "outputs": [
        {
          "output_type": "stream",
          "name": "stdout",
          "text": [
            "Collecting duckduckgo_search\n",
            "  Downloading duckduckgo_search-6.3.3-py3-none-any.whl.metadata (25 kB)\n",
            "Requirement already satisfied: click>=8.1.7 in /usr/local/lib/python3.10/dist-packages (from duckduckgo_search) (8.1.7)\n",
            "Collecting primp>=0.6.5 (from duckduckgo_search)\n",
            "  Downloading primp-0.6.5-cp38-abi3-manylinux_2_17_x86_64.manylinux2014_x86_64.whl.metadata (10 kB)\n",
            "Downloading duckduckgo_search-6.3.3-py3-none-any.whl (27 kB)\n",
            "Downloading primp-0.6.5-cp38-abi3-manylinux_2_17_x86_64.manylinux2014_x86_64.whl (3.0 MB)\n",
            "\u001b[?25l   \u001b[90m━━━━━━━━━━━━━━━━━━━━━━━━━━━━━━━━━━━━━━━━\u001b[0m \u001b[32m0.0/3.0 MB\u001b[0m \u001b[31m?\u001b[0m eta \u001b[36m-:--:--\u001b[0m\r\u001b[2K   \u001b[91m━━━━━━━━━━━━━━━━━━━━━━━━━━━━━━━━━━━━━━━\u001b[0m\u001b[91m╸\u001b[0m \u001b[32m3.0/3.0 MB\u001b[0m \u001b[31m163.2 MB/s\u001b[0m eta \u001b[36m0:00:01\u001b[0m\r\u001b[2K   \u001b[90m━━━━━━━━━━━━━━━━━━━━━━━━━━━━━━━━━━━━━━━━\u001b[0m \u001b[32m3.0/3.0 MB\u001b[0m \u001b[31m75.2 MB/s\u001b[0m eta \u001b[36m0:00:00\u001b[0m\n",
            "\u001b[?25hInstalling collected packages: primp, duckduckgo_search\n",
            "Successfully installed duckduckgo_search-6.3.3 primp-0.6.5\n"
          ]
        }
      ]
    },
    {
      "cell_type": "code",
      "source": [
        "from fastai.vision.all import *"
      ],
      "metadata": {
        "execution": {
          "iopub.status.busy": "2024-10-30T06:49:16.090566Z",
          "iopub.execute_input": "2024-10-30T06:49:16.090949Z",
          "iopub.status.idle": "2024-10-30T06:49:24.960371Z",
          "shell.execute_reply.started": "2024-10-30T06:49:16.090912Z",
          "shell.execute_reply": "2024-10-30T06:49:24.959602Z"
        },
        "trusted": true,
        "id": "79XnLXRmTI0S"
      },
      "execution_count": 3,
      "outputs": []
    },
    {
      "cell_type": "code",
      "source": [
        "from fastdownload import download_url\n",
        "from duckduckgo_search import DDGS\n",
        "ddgs = DDGS()\n",
        "img = list(ddgs.images(\n",
        "        keywords = \"grizzly bear\",\n",
        "        max_results = 2\n",
        "    ))\n"
      ],
      "metadata": {
        "execution": {
          "iopub.status.busy": "2024-10-30T06:50:59.869264Z",
          "iopub.execute_input": "2024-10-30T06:50:59.869669Z",
          "iopub.status.idle": "2024-10-30T06:51:00.384166Z",
          "shell.execute_reply.started": "2024-10-30T06:50:59.869607Z",
          "shell.execute_reply": "2024-10-30T06:51:00.383234Z"
        },
        "trusted": true,
        "id": "dnY-fI1QTI0T"
      },
      "execution_count": 4,
      "outputs": []
    },
    {
      "cell_type": "code",
      "source": [
        "img"
      ],
      "metadata": {
        "execution": {
          "iopub.status.busy": "2024-10-30T06:52:31.379166Z",
          "iopub.execute_input": "2024-10-30T06:52:31.379772Z",
          "iopub.status.idle": "2024-10-30T06:52:31.386134Z",
          "shell.execute_reply.started": "2024-10-30T06:52:31.379731Z",
          "shell.execute_reply": "2024-10-30T06:52:31.38516Z"
        },
        "trusted": true,
        "id": "p3JP249XTI0T",
        "outputId": "5affb66c-fdbe-495d-e782-7f39d291ebf3",
        "colab": {
          "base_uri": "https://localhost:8080/"
        }
      },
      "execution_count": 5,
      "outputs": [
        {
          "output_type": "execute_result",
          "data": {
            "text/plain": [
              "[{'title': 'Grizzly Bear Basic Facts And New Pictures | The Wildlife',\n",
              "  'image': 'http://2.bp.blogspot.com/-NjMTuklENdE/UHzVv_8dIxI/AAAAAAAAA-U/tNBsQDn8kFI/s1600/Grizzly+Bear+Pic.jpg',\n",
              "  'thumbnail': 'https://tse1.mm.bing.net/th?id=OIP.Mw_Mi-jVWv9_0SNTuiGaSQHaE8&pid=Api',\n",
              "  'url': 'http://wildlifeanimalz.blogspot.com/2012/10/Grizzly-Bear.html',\n",
              "  'height': 1068,\n",
              "  'width': 1600,\n",
              "  'source': 'Bing'},\n",
              " {'title': 'Grizzly Bear | The Canadian Encyclopedia',\n",
              "  'image': 'https://d3d0lqu00lnqvz.cloudfront.net/media/media/897b2e5d-6d4c-40fa-bbe8-6829455747e2.jpg',\n",
              "  'thumbnail': 'https://tse4.mm.bing.net/th?id=OIP.1qjVNM93gpWmEJHUZQVihAHaE8&pid=Api',\n",
              "  'url': 'https://www.thecanadianencyclopedia.ca/en/article/grizzly-bear/',\n",
              "  'height': 1334,\n",
              "  'width': 2000,\n",
              "  'source': 'Bing'}]"
            ]
          },
          "metadata": {},
          "execution_count": 5
        }
      ]
    },
    {
      "cell_type": "code",
      "source": [
        "for result in img:\n",
        "    print(result[\"image\"])"
      ],
      "metadata": {
        "execution": {
          "iopub.status.busy": "2024-10-30T06:51:35.117379Z",
          "iopub.execute_input": "2024-10-30T06:51:35.11799Z",
          "iopub.status.idle": "2024-10-30T06:51:35.124671Z",
          "shell.execute_reply.started": "2024-10-30T06:51:35.117939Z",
          "shell.execute_reply": "2024-10-30T06:51:35.123661Z"
        },
        "trusted": true,
        "id": "QmD_4Oc-TI0U",
        "outputId": "033dff75-49a9-4657-9ef7-001d58883008",
        "colab": {
          "base_uri": "https://localhost:8080/"
        }
      },
      "execution_count": 6,
      "outputs": [
        {
          "output_type": "stream",
          "name": "stdout",
          "text": [
            "http://2.bp.blogspot.com/-NjMTuklENdE/UHzVv_8dIxI/AAAAAAAAA-U/tNBsQDn8kFI/s1600/Grizzly+Bear+Pic.jpg\n",
            "https://d3d0lqu00lnqvz.cloudfront.net/media/media/897b2e5d-6d4c-40fa-bbe8-6829455747e2.jpg\n"
          ]
        }
      ]
    },
    {
      "cell_type": "code",
      "source": [
        "bear_types = \"grizzly\", \"teddy\", \"black\"\n",
        "path = Path('/content/sample_data/bears')\n",
        "path"
      ],
      "metadata": {
        "execution": {
          "iopub.status.busy": "2024-10-30T06:55:39.252043Z",
          "iopub.execute_input": "2024-10-30T06:55:39.2527Z",
          "iopub.status.idle": "2024-10-30T06:55:39.258993Z",
          "shell.execute_reply.started": "2024-10-30T06:55:39.25266Z",
          "shell.execute_reply": "2024-10-30T06:55:39.258057Z"
        },
        "trusted": true,
        "id": "ZhZgy3OZTI0V",
        "outputId": "33eb969f-e6c2-4d22-d946-28688814ea9a",
        "colab": {
          "base_uri": "https://localhost:8080/"
        }
      },
      "execution_count": 7,
      "outputs": [
        {
          "output_type": "execute_result",
          "data": {
            "text/plain": [
              "Path('/content/sample_data/bears')"
            ]
          },
          "metadata": {},
          "execution_count": 7
        }
      ]
    },
    {
      "cell_type": "code",
      "source": [
        "def download_images(dest, results):\n",
        "    \"\"\"Download images from search results to destination folder\"\"\"\n",
        "    for i, result in enumerate(results):\n",
        "        # Extract image URL from the result dictionary\n",
        "        url = result['image']\n",
        "        download_url(url, dest/f\"{i}.jpg\", show_progress=False)\n"
      ],
      "metadata": {
        "execution": {
          "iopub.status.busy": "2024-10-30T06:55:41.899799Z",
          "iopub.execute_input": "2024-10-30T06:55:41.900671Z",
          "iopub.status.idle": "2024-10-30T06:55:41.905411Z",
          "shell.execute_reply.started": "2024-10-30T06:55:41.900604Z",
          "shell.execute_reply": "2024-10-30T06:55:41.904508Z"
        },
        "trusted": true,
        "id": "bg3eL16kTI0V"
      },
      "execution_count": 8,
      "outputs": []
    },
    {
      "cell_type": "code",
      "source": [],
      "metadata": {
        "execution": {
          "iopub.status.busy": "2024-10-30T06:55:45.943026Z",
          "iopub.execute_input": "2024-10-30T06:55:45.943781Z",
          "iopub.status.idle": "2024-10-30T06:55:55.971365Z",
          "shell.execute_reply.started": "2024-10-30T06:55:45.943739Z",
          "shell.execute_reply": "2024-10-30T06:55:55.970452Z"
        },
        "trusted": true,
        "id": "Fnz4YjR9TI0W",
        "outputId": "1acdef2a-5076-45f5-8724-465535238a61"
      },
      "execution_count": null,
      "outputs": [
        {
          "name": "stdout",
          "text": "/kaggle/working/bears/grizzly\nFound 150 images for grizzly bears\nerror in the function\n/kaggle/working/bears/teddy\nFound 150 images for teddy bears\nerror in the function\n/kaggle/working/bears/black\nFound 150 images for black bears\nerror in the function\n",
          "output_type": "stream"
        }
      ]
    },
    {
      "cell_type": "code",
      "source": [
        "\n",
        "\n",
        "import time\n",
        "if not path.exists():\n",
        "    path.mkdir()\n",
        "\n",
        "    # Create directories and download images for each bear type\n",
        "for bear in bear_types:\n",
        "\n",
        "    # Create directory for this bear type\n",
        "    dest = (path/bear)\n",
        "    print(f\"for {bear} path is {dest}\")\n",
        "    dest.mkdir(exist_ok=True)\n",
        "\n",
        "    try:\n",
        "        # Search for images\n",
        "        results = list(ddgs.images(\n",
        "            keywords=f\"{bear} bear\",\n",
        "            max_results=100,\n",
        "            safesearch='on'\n",
        "        ))\n",
        "\n",
        "        print(f\"Found {len(results)} images for {bear} bears\")\n",
        "        download_images(dest, results)\n",
        "        time.sleep(1)\n",
        "        # downloaded_count = count_images(dest)\n",
        "        # print(f\"Downloaded {downloaded_count} images for {bear} bears.\")\n",
        "    except Exception as e:\n",
        "        print(f\"Error in downloading images for {bear}\")"
      ],
      "metadata": {
        "id": "Q-aA0kvyTi6H",
        "outputId": "b5a9b501-f087-45c7-9a5d-2e3e947d343f",
        "colab": {
          "base_uri": "https://localhost:8080/"
        }
      },
      "execution_count": 9,
      "outputs": [
        {
          "output_type": "stream",
          "name": "stdout",
          "text": [
            "for grizzly path is /content/sample_data/bears/grizzly\n",
            "Found 100 images for grizzly bears\n",
            "Error in downloading images for grizzly\n",
            "for teddy path is /content/sample_data/bears/teddy\n",
            "Found 99 images for teddy bears\n",
            "Error in downloading images for teddy\n",
            "for black path is /content/sample_data/bears/black\n",
            "Found 100 images for black bears\n",
            "Error in downloading images for black\n"
          ]
        }
      ]
    },
    {
      "cell_type": "code",
      "source": [
        "# import shutil\n",
        "# import os\n",
        "\n",
        "# folder_path = \"/content/sample_data/bears\"\n",
        "# for filename in os.listdir(folder_path):\n",
        "#     file_path = os.path.join(folder_path, filename)\n",
        "#     try:\n",
        "#         if os.path.isfile(file_path) or os.path.islink(file_path):\n",
        "#             os.unlink(file_path)  # Remove file\n",
        "#         elif os.path.isdir(file_path):\n",
        "#             shutil.rmtree(file_path)  # Remove folder\n",
        "#     except Exception as e:\n",
        "#         print(f\"Failed to delete {file_path}. Reason: {e}\")\n"
      ],
      "metadata": {
        "execution": {
          "iopub.status.busy": "2024-10-30T06:58:08.228183Z",
          "iopub.execute_input": "2024-10-30T06:58:08.228931Z",
          "iopub.status.idle": "2024-10-30T06:58:08.235153Z",
          "shell.execute_reply.started": "2024-10-30T06:58:08.22889Z",
          "shell.execute_reply": "2024-10-30T06:58:08.234122Z"
        },
        "trusted": true,
        "id": "NRFHoXQFTI0X"
      },
      "execution_count": null,
      "outputs": []
    },
    {
      "cell_type": "code",
      "source": [
        "from pathlib import Path\n",
        "\n",
        "def count_images(dest):\n",
        "    folder = Path(dest)  # Create Path object from the destination string\n",
        "    return len(list(folder.glob(\"*.jpg\")))\n",
        "\n",
        "print(count_images(\"/content/sample_data/bears/grizzly\"))\n",
        "print(count_images(\"/content/sample_data/bears/teddy\"))\n",
        "print(count_images(\"/content/sample_data/bears/black\"))"
      ],
      "metadata": {
        "id": "q5Y_p3xoTI0Y",
        "outputId": "47849445-f8fd-4cbd-ee7a-ca89535491c1",
        "colab": {
          "base_uri": "https://localhost:8080/"
        }
      },
      "execution_count": 12,
      "outputs": [
        {
          "output_type": "stream",
          "name": "stdout",
          "text": [
            "11\n",
            "0\n",
            "13\n"
          ]
        }
      ]
    },
    {
      "cell_type": "code",
      "source": [],
      "metadata": {
        "id": "Qks6veBsU1yo"
      },
      "execution_count": null,
      "outputs": []
    }
  ]
}